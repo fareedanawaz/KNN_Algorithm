{
 "cells": [
  {
   "cell_type": "code",
   "execution_count": 92,
   "metadata": {},
   "outputs": [],
   "source": [
    "import os\n",
    "import csv\n",
    "import math\n",
    "import numpy as np\n",
    "from matplotlib import pyplot\n",
    "%matplotlib inline"
   ]
  },
  {
   "cell_type": "code",
   "execution_count": 93,
   "metadata": {},
   "outputs": [],
   "source": [
    "#data reading\n",
    "reader = csv.reader(open(\"train.csv\", \"r\"), delimiter=\",\")\n",
    "result = list(reader)\n",
    "trainData = np.array(result)\n",
    "#print((trainData))\n",
    "\n",
    "\n",
    "reader = csv.reader(open(\"test.csv\", \"r\"), delimiter=\",\")\n",
    "result = list(reader)\n",
    "testData = np.array(result)\n",
    "#print(len(testData))\n",
    "\n"
   ]
  },
  {
   "cell_type": "code",
   "execution_count": 94,
   "metadata": {},
   "outputs": [],
   "source": [
    "train_data_features = np.delete(trainData,4 ,axis = 1)\n",
    "train_data_output =  trainData[:,4]\n",
    "\n",
    "test_data_features = np.delete(testData,4 ,axis = 1)\n",
    "test_data_output =  testData[:,4]\n",
    "\n",
    "train_data_features = train_data_features.astype(np.float)\n",
    "test_data_features = test_data_features.astype(np.float)"
   ]
  },
  {
   "cell_type": "code",
   "execution_count": 95,
   "metadata": {},
   "outputs": [],
   "source": [
    "#euclidian distance\n",
    "def computeDistance(trainData,testData): \n",
    "    D = np.sqrt(np.sum(np.subtract(trainData ,testData)**2))\n",
    "    return D\n"
   ]
  },
  {
   "cell_type": "code",
   "execution_count": 96,
   "metadata": {},
   "outputs": [
    {
     "data": {
      "text/plain": [
       "0.5916079783099616"
      ]
     },
     "execution_count": 96,
     "metadata": {},
     "output_type": "execute_result"
    }
   ],
   "source": [
    "computeDistance(train_data_features[0],test_data_features[0])"
   ]
  },
  {
   "cell_type": "code",
   "execution_count": 157,
   "metadata": {},
   "outputs": [],
   "source": [
    "def createDistanceVector(testData):\n",
    "    distanceArray = list()\n",
    "    i = 0\n",
    "    # create as index,distance\n",
    "    while (i <len(train_data_features)):\n",
    "        row = train_data_features[i]\n",
    "        distanceArray.append([i,computeDistance(row,testData)])\n",
    "        i = i+1\n",
    "    return distanceArray\n",
    "    "
   ]
  },
  {
   "cell_type": "code",
   "execution_count": 158,
   "metadata": {},
   "outputs": [],
   "source": [
    "distanceArray = createDistanceVector(test_data_features[0])\n",
    "#print(distanceArray)"
   ]
  },
  {
   "cell_type": "code",
   "execution_count": 159,
   "metadata": {},
   "outputs": [],
   "source": [
    "def predictLabel(distanceVector,K):\n",
    "    i = 0\n",
    "    indexes_labels = list()\n",
    "    \n",
    "    distanceVector.sort(key = lambda x: x[1])\n",
    "    \n",
    "    while(i< K):\n",
    "        min_index = distanceVector[i][0]\n",
    "        indexes_labels.append(train_data_output[min_index])\n",
    "        i = i+1\n",
    "    \n",
    "    return max(set(indexes_labels), key = indexes_labels.count) \n",
    "    \n",
    "#predictLabel(createDistanceVector(test_data_features[0]),5)       "
   ]
  },
  {
   "cell_type": "code",
   "execution_count": 160,
   "metadata": {},
   "outputs": [],
   "source": [
    "#main function that computes the predicted labels for testData\n",
    "def predictKNN(testData,K):\n",
    "    predictedLabel = list()\n",
    "    for row in testData:\n",
    "        #append in predictedlabael\n",
    "        predictedLabel.append(predictLabel(createDistanceVector(row),K))\n",
    "    return predictedLabel        "
   ]
  },
  {
   "cell_type": "code",
   "execution_count": 161,
   "metadata": {},
   "outputs": [
    {
     "name": "stdout",
     "output_type": "stream",
     "text": [
      "['Iris-setosa', 'Iris-setosa', 'Iris-setosa', 'Iris-setosa', 'Iris-setosa', 'Iris-versicolor', 'Iris-versicolor', 'Iris-versicolor', 'Iris-versicolor', 'Iris-versicolor', 'Iris-virginica', 'Iris-virginica', 'Iris-virginica', 'Iris-virginica', 'Iris-versicolor']\n"
     ]
    }
   ],
   "source": [
    "predictedLabel = predictKNN(test_data_features,60)\n",
    "print(predictedLabel)"
   ]
  },
  {
   "cell_type": "code",
   "execution_count": 107,
   "metadata": {},
   "outputs": [],
   "source": [
    "#confusion matrix\n",
    "def confusionMatrixIrissetosa(predicted_Y, Actual_Y):\n",
    "    tp = 0\n",
    "    tn = 0\n",
    "    fp = 0\n",
    "    fn = 0\n",
    "    #for positive\n",
    "    for i in range(len(Actual_Y)): \n",
    "        if predicted_Y[i] == 'Iris-setosa' and Actual_Y[i]== 'Iris-setosa' :\n",
    "           tp += 1\n",
    "        if predicted_Y[i]== 'Iris-setosa' and Actual_Y[i]== 'Iris-versicolor':\n",
    "           fp += 1\n",
    "        if predicted_Y[i]== 'Iris-setosa' and Actual_Y[i] == 'Iris-virginica':\n",
    "           fp += 1\n",
    "        if predicted_Y[i]== 'Iris-versicolor' and Actual_Y[i] == 'Iris-setosa' :\n",
    "           fn += 1\n",
    "          # print('A')\n",
    "        if predicted_Y[i]=='Iris-versicolor' and Actual_Y[i] =='Iris-versicolor' :\n",
    "           tn += 1\n",
    "           #print('B')\n",
    "        if predicted_Y[i]=='Iris-versicolor' and Actual_Y[i] =='Iris-virginica' :\n",
    "           tn += 1\n",
    "           #print('C')\n",
    "        if predicted_Y[i]=='Iris-virginica' and Actual_Y[i] =='Iris-setosa' :\n",
    "           fn += 1\n",
    "        if predicted_Y[i]=='Iris-virginica' and Actual_Y[i] =='Iris-versicolor' :\n",
    "           tn += 1\n",
    "        if predicted_Y[i]=='Iris-virginica' and Actual_Y[i] =='Iris-virginica' :\n",
    "           tn += 1\n",
    "\n",
    "    return(tp, tn, fp, fn)\n",
    "\n",
    "\n",
    "\n",
    "def confusionMatrixIrisversicolor(predicted_Y, Actual_Y):\n",
    "    tp = 0\n",
    "    tn = 0\n",
    "    fp = 0\n",
    "    fn = 0\n",
    "    for i in range(len(Actual_Y)): \n",
    "        if predicted_Y[i] == 'Iris-setosa' and Actual_Y[i]== 'Iris-setosa' :\n",
    "           tn += 1\n",
    "        if predicted_Y[i]=='Iris-setosa' and Actual_Y[i]== 'Iris-versicolor':\n",
    "           fn += 1\n",
    "        if predicted_Y[i]=='Iris-setosa' and Actual_Y[i] == 'Iris-virginica':\n",
    "           tn += 1\n",
    "        if predicted_Y[i]=='Iris-versicolor' and Actual_Y[i] =='Iris-setosa' :\n",
    "           fp += 1\n",
    "        if predicted_Y[i]=='Iris-versicolor' and Actual_Y[i] =='Iris-versicolor' :\n",
    "           tp += 1\n",
    "        if predicted_Y[i]=='Iris-versicolor' and Actual_Y[i] =='Iris-virginica' :\n",
    "           fp += 1\n",
    "        if predicted_Y[i]=='Iris-virginica' and Actual_Y[i] =='Iris-setosa' :\n",
    "           tn += 1\n",
    "        if predicted_Y[i]=='Iris-virginica' and Actual_Y[i] =='Iris-versicolor' :\n",
    "           fn += 1\n",
    "        if predicted_Y[i]=='Iris-virginica' and Actual_Y[i] =='Iris-virginica' :\n",
    "           tn += 1\n",
    "\n",
    "    return(tp, tn, fp, fn)\n",
    "\n",
    "\n",
    "\n",
    "def confusionMatrixIrisvirginica(predicted_Y, Actual_Y):\n",
    "    tp = 0\n",
    "    tn = 0\n",
    "    fp = 0\n",
    "    fn = 0\n",
    "    for i in range(len(Actual_Y)): \n",
    "        if predicted_Y[i] == 'Iris-setosa' and Actual_Y[i]== 'Iris-setosa' :\n",
    "           tn += 1\n",
    "        if predicted_Y[i]=='Iris-setosa' and Actual_Y[i]== 'Iris-versicolor':\n",
    "           tn += 1\n",
    "        if predicted_Y[i]=='Iris-setosa' and Actual_Y[i] == 'Iris-virginica':\n",
    "           fn += 1\n",
    "        if predicted_Y[i]== 'Iris-versicolor' and Actual_Y[i] == 'Iris-setosa' :\n",
    "           tn += 1\n",
    "        if predicted_Y[i]== 'Iris-versicolor' and Actual_Y[i] == 'Iris-versicolor' :\n",
    "           tn += 1\n",
    "        if predicted_Y[i]== 'Iris-versicolor' and Actual_Y[i] == 'Iris-virginica' :\n",
    "           fn += 1\n",
    "        if predicted_Y[i]=='Iris-virginica' and Actual_Y[i] =='Iris-setosa' :\n",
    "           fp += 1\n",
    "        if predicted_Y[i]=='Iris-virginica' and Actual_Y[i] =='Iris-versicolor' :\n",
    "           fp += 1\n",
    "        if predicted_Y[i]=='Iris-virginica' and Actual_Y[i] =='Iris-virginica' :\n",
    "           tp += 1\n",
    "\n",
    "    return(tp, tn, fp, fn)\n",
    "\n"
   ]
  },
  {
   "cell_type": "code",
   "execution_count": 108,
   "metadata": {},
   "outputs": [],
   "source": [
    "# confusionMatrix & Accuracies\n",
    "def outputParameters(predictedLabel):\n",
    "    \n",
    "    print('Confusion matrix for Iris-setosa')\n",
    "    tp0, tn0, fp0, fn0 = confusionMatrixIrissetosa(predictedLabel,test_data_output)\n",
    "    matrix = np.array([[tp0,fp0], [fn0,tn0]])\n",
    "    print(matrix)\n",
    "    # confusionMatrix Irisversicolor \n",
    "    print('Confusion matrix for Iris-versicolor')\n",
    "    tp1, tn1, fp1, fn1 = confusionMatrixIrisversicolor(predictedLabel,test_data_output)\n",
    "    matrix = np.array([[tp1,fp1], [fn1,tn1]])\n",
    "    print(matrix)\n",
    "    print('Confusion matrix for Iris-virginica')\n",
    "    # confusionMatrix Irisvirginica\n",
    "    tp2, tn2, fp2, fn2 = confusionMatrixIrisvirginica(predictedLabel,test_data_output)\n",
    "    matrix = np.array([[tp2,fp2], [fn2,tn2]])\n",
    "    print(matrix)\n",
    "    \n",
    "    \n",
    "    #Acuuracies\n",
    "    accuracy0 = (tp0+tn0)/(tp0+tn0+fp0+fn0)*100\n",
    "    accuracy1 = (tp1+tn1)/(tp1+tn1+fp1+fn1)*100\n",
    "    accuracy2 = (tp2+tn2)/(tp2+tn2+fp2+fn2)*100\n",
    "    print('Accuracy for Iris-setosa',accuracy0)\n",
    "    print('Accuracy for Iris-versicolor',accuracy1)\n",
    "    print('Accuracy for Iris-virginica',accuracy2)\n",
    "    \n"
   ]
  },
  {
   "cell_type": "code",
   "execution_count": 184,
   "metadata": {},
   "outputs": [],
   "source": [
    "#Single accuracy\n",
    "def computeAccuracy(predicted_Y):\n",
    "    tp=0\n",
    "    length = len(predicted_Y)\n",
    "    \n",
    "    for i in range (length):\n",
    "        if predicted_Y[i] == test_data_output[i]:\n",
    "            tp = tp +1\n",
    " \n",
    "    print ('Combined Accuracy is ' ,(tp/length)*100 )   "
   ]
  },
  {
   "cell_type": "markdown",
   "metadata": {},
   "source": [
    "**OUTPUT**\n"
   ]
  },
  {
   "cell_type": "code",
   "execution_count": 183,
   "metadata": {},
   "outputs": [
    {
     "name": "stdout",
     "output_type": "stream",
     "text": [
      "for k = 1\n",
      "Confusion matrix for Iris-setosa\n",
      "[[ 5  0]\n",
      " [ 0 10]]\n",
      "Confusion matrix for Iris-versicolor\n",
      "[[ 5  0]\n",
      " [ 0 10]]\n",
      "Confusion matrix for Iris-virginica\n",
      "[[ 5  0]\n",
      " [ 0 10]]\n",
      "Accuracy for Iris-setosa 100.0\n",
      "Accuracy for Iris-versicolor 100.0\n",
      "Accuracy for Iris-virginica 100.0\n",
      "Combined Accuray is  100.0\n",
      "\n",
      "for k = 3\n",
      "Confusion matrix for Iris-setosa\n",
      "[[ 5  0]\n",
      " [ 0 10]]\n",
      "Confusion matrix for Iris-versicolor\n",
      "[[ 5  0]\n",
      " [ 0 10]]\n",
      "Confusion matrix for Iris-virginica\n",
      "[[ 5  0]\n",
      " [ 0 10]]\n",
      "Accuracy for Iris-setosa 100.0\n",
      "Accuracy for Iris-versicolor 100.0\n",
      "Accuracy for Iris-virginica 100.0\n",
      "Combined Accuray is  100.0\n",
      "\n",
      "for k = 5\n",
      "Confusion matrix for Iris-setosa\n",
      "[[ 5  0]\n",
      " [ 0 10]]\n",
      "Confusion matrix for Iris-versicolor\n",
      "[[ 5  0]\n",
      " [ 0 10]]\n",
      "Confusion matrix for Iris-virginica\n",
      "[[ 5  0]\n",
      " [ 0 10]]\n",
      "Accuracy for Iris-setosa 100.0\n",
      "Accuracy for Iris-versicolor 100.0\n",
      "Accuracy for Iris-virginica 100.0\n",
      "Combined Accuray is  100.0\n"
     ]
    }
   ],
   "source": [
    "#FOR K = 1,3,5\n",
    "print('for k = 1')\n",
    "predictedLabel = predictKNN(test_data_features,1)\n",
    "outputParameters(predictedLabel)\n",
    "computeAccuracy(predictedLabel)\n",
    "print('\\nfor k = 3')\n",
    "predictedLabel = predictKNN(test_data_features,3)\n",
    "outputParameters(predictedLabel)\n",
    "computeAccuracy(predictedLabel)\n",
    "print('\\nfor k = 5')\n",
    "predictedLabel = predictKNN(test_data_features,5)\n",
    "outputParameters(predictedLabel)\n",
    "computeAccuracy(predictedLabel)"
   ]
  },
  {
   "cell_type": "code",
   "execution_count": null,
   "metadata": {},
   "outputs": [],
   "source": []
  }
 ],
 "metadata": {
  "kernelspec": {
   "display_name": "Python 3",
   "language": "python",
   "name": "python3"
  },
  "language_info": {
   "codemirror_mode": {
    "name": "ipython",
    "version": 3
   },
   "file_extension": ".py",
   "mimetype": "text/x-python",
   "name": "python",
   "nbconvert_exporter": "python",
   "pygments_lexer": "ipython3",
   "version": "3.7.4"
  }
 },
 "nbformat": 4,
 "nbformat_minor": 2
}
